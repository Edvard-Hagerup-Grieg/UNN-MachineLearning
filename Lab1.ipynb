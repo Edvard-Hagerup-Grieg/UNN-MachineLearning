{
 "cells": [
  {
   "cell_type": "code",
   "execution_count": 1,
   "metadata": {},
   "outputs": [],
   "source": [
    "import numpy as np\n",
    "import matplotlib.pyplot as plt\n",
    "import pandas as pd"
   ]
  },
  {
   "cell_type": "markdown",
   "metadata": {},
   "source": [
    "### Данные"
   ]
  },
  {
   "cell_type": "code",
   "execution_count": 2,
   "metadata": {},
   "outputs": [],
   "source": [
    "data = pd.read_csv('Pokemon.csv' , sep = ',', engine = 'python')"
   ]
  },
  {
   "cell_type": "markdown",
   "metadata": {},
   "source": [
    "Набор данных содержит 800 экземпляров, описанных 13 признаками: `#`, `Name`, `Type 1`, `Type 2`, `Total`, `HP`, `Attack`, `Defense`, `Sp. Atk`, `Sp. Def`, `Speed`, `Generation`, `Legendary`."
   ]
  },
  {
   "cell_type": "code",
   "execution_count": 3,
   "metadata": {},
   "outputs": [
    {
     "name": "stdout",
     "output_type": "stream",
     "text": [
      "(800, 13)\n",
      "Index(['#', 'Name', 'Type 1', 'Type 2', 'Total', 'HP', 'Attack', 'Defense',\n",
      "       'Sp. Atk', 'Sp. Def', 'Speed', 'Generation', 'Legendary'],\n",
      "      dtype='object')\n"
     ]
    }
   ],
   "source": [
    "print(data.shape)\n",
    "print(data.columns)"
   ]
  },
  {
   "cell_type": "markdown",
   "metadata": {},
   "source": [
    "Каждый экземпляр представляет собой описание конкретного персонажа (pokemon-а) из серии компьютерных игр Pokémon. Покедекс - внутриигровой каталог pokemon-ов.\n",
    "\n",
    "- `#` - номер pokemon-а в покедексе\n",
    "- `Name` - наименование в покедексе\n",
    "- `Type 1` - обязательный тип pokemon-а\n",
    "- `Type 2` - необязательный тип pokemon-а\n",
    "- `Total` - сумарное значение всех статистических данных по рассматриваемому экземпляру\n",
    "- `HP` - единицы здаровья\n",
    "- `Attack` - единицы наносимого урона (атаки)\n",
    "- `Defense` - единицы отражаемого урона (защиты)\n",
    "- `Sp. Atk` - единицы наносимого урона во время специальной атаки\n",
    "- `Sp. Def` - единицы отражаемого урона во время специальной атаки\n",
    "- `Speed` - единицы скорости\n",
    "- `Generation` - поколение pokemon-ов (в каком обновлении появился рассматриваемый pokemon)\n",
    "- `Legendary` - легендарность (фактически, редкость рассматриваемого pokemon-а)"
   ]
  },
  {
   "cell_type": "code",
   "execution_count": 4,
   "metadata": {},
   "outputs": [
    {
     "data": {
      "text/html": [
       "<div>\n",
       "<style scoped>\n",
       "    .dataframe tbody tr th:only-of-type {\n",
       "        vertical-align: middle;\n",
       "    }\n",
       "\n",
       "    .dataframe tbody tr th {\n",
       "        vertical-align: top;\n",
       "    }\n",
       "\n",
       "    .dataframe thead th {\n",
       "        text-align: right;\n",
       "    }\n",
       "</style>\n",
       "<table border=\"1\" class=\"dataframe\">\n",
       "  <thead>\n",
       "    <tr style=\"text-align: right;\">\n",
       "      <th></th>\n",
       "      <th>#</th>\n",
       "      <th>Name</th>\n",
       "      <th>Type 1</th>\n",
       "      <th>Type 2</th>\n",
       "      <th>Total</th>\n",
       "      <th>HP</th>\n",
       "      <th>Attack</th>\n",
       "      <th>Defense</th>\n",
       "      <th>Sp. Atk</th>\n",
       "      <th>Sp. Def</th>\n",
       "      <th>Speed</th>\n",
       "      <th>Generation</th>\n",
       "      <th>Legendary</th>\n",
       "    </tr>\n",
       "  </thead>\n",
       "  <tbody>\n",
       "    <tr>\n",
       "      <th>0</th>\n",
       "      <td>1</td>\n",
       "      <td>Bulbasaur</td>\n",
       "      <td>Grass</td>\n",
       "      <td>Poison</td>\n",
       "      <td>318</td>\n",
       "      <td>45</td>\n",
       "      <td>49</td>\n",
       "      <td>49</td>\n",
       "      <td>65</td>\n",
       "      <td>65</td>\n",
       "      <td>45</td>\n",
       "      <td>1</td>\n",
       "      <td>False</td>\n",
       "    </tr>\n",
       "    <tr>\n",
       "      <th>1</th>\n",
       "      <td>2</td>\n",
       "      <td>Ivysaur</td>\n",
       "      <td>Grass</td>\n",
       "      <td>Poison</td>\n",
       "      <td>405</td>\n",
       "      <td>60</td>\n",
       "      <td>62</td>\n",
       "      <td>63</td>\n",
       "      <td>80</td>\n",
       "      <td>80</td>\n",
       "      <td>60</td>\n",
       "      <td>1</td>\n",
       "      <td>False</td>\n",
       "    </tr>\n",
       "    <tr>\n",
       "      <th>2</th>\n",
       "      <td>3</td>\n",
       "      <td>Venusaur</td>\n",
       "      <td>Grass</td>\n",
       "      <td>Poison</td>\n",
       "      <td>525</td>\n",
       "      <td>80</td>\n",
       "      <td>82</td>\n",
       "      <td>83</td>\n",
       "      <td>100</td>\n",
       "      <td>100</td>\n",
       "      <td>80</td>\n",
       "      <td>1</td>\n",
       "      <td>False</td>\n",
       "    </tr>\n",
       "    <tr>\n",
       "      <th>3</th>\n",
       "      <td>3</td>\n",
       "      <td>VenusaurMega Venusaur</td>\n",
       "      <td>Grass</td>\n",
       "      <td>Poison</td>\n",
       "      <td>625</td>\n",
       "      <td>80</td>\n",
       "      <td>100</td>\n",
       "      <td>123</td>\n",
       "      <td>122</td>\n",
       "      <td>120</td>\n",
       "      <td>80</td>\n",
       "      <td>1</td>\n",
       "      <td>False</td>\n",
       "    </tr>\n",
       "    <tr>\n",
       "      <th>4</th>\n",
       "      <td>4</td>\n",
       "      <td>Charmander</td>\n",
       "      <td>Fire</td>\n",
       "      <td>NaN</td>\n",
       "      <td>309</td>\n",
       "      <td>39</td>\n",
       "      <td>52</td>\n",
       "      <td>43</td>\n",
       "      <td>60</td>\n",
       "      <td>50</td>\n",
       "      <td>65</td>\n",
       "      <td>1</td>\n",
       "      <td>False</td>\n",
       "    </tr>\n",
       "  </tbody>\n",
       "</table>\n",
       "</div>"
      ],
      "text/plain": [
       "   #                   Name Type 1  Type 2  Total  HP  Attack  Defense  \\\n",
       "0  1              Bulbasaur  Grass  Poison    318  45      49       49   \n",
       "1  2                Ivysaur  Grass  Poison    405  60      62       63   \n",
       "2  3               Venusaur  Grass  Poison    525  80      82       83   \n",
       "3  3  VenusaurMega Venusaur  Grass  Poison    625  80     100      123   \n",
       "4  4             Charmander   Fire     NaN    309  39      52       43   \n",
       "\n",
       "   Sp. Atk  Sp. Def  Speed  Generation  Legendary  \n",
       "0       65       65     45           1      False  \n",
       "1       80       80     60           1      False  \n",
       "2      100      100     80           1      False  \n",
       "3      122      120     80           1      False  \n",
       "4       60       50     65           1      False  "
      ]
     },
     "execution_count": 4,
     "metadata": {},
     "output_type": "execute_result"
    }
   ],
   "source": [
    "data.head()"
   ]
  },
  {
   "cell_type": "code",
   "execution_count": 5,
   "metadata": {},
   "outputs": [
    {
     "data": {
      "text/html": [
       "<div>\n",
       "<style scoped>\n",
       "    .dataframe tbody tr th:only-of-type {\n",
       "        vertical-align: middle;\n",
       "    }\n",
       "\n",
       "    .dataframe tbody tr th {\n",
       "        vertical-align: top;\n",
       "    }\n",
       "\n",
       "    .dataframe thead th {\n",
       "        text-align: right;\n",
       "    }\n",
       "</style>\n",
       "<table border=\"1\" class=\"dataframe\">\n",
       "  <thead>\n",
       "    <tr style=\"text-align: right;\">\n",
       "      <th></th>\n",
       "      <th>#</th>\n",
       "      <th>Name</th>\n",
       "      <th>Type 1</th>\n",
       "      <th>Type 2</th>\n",
       "      <th>Total</th>\n",
       "      <th>HP</th>\n",
       "      <th>Attack</th>\n",
       "      <th>Defense</th>\n",
       "      <th>Sp. Atk</th>\n",
       "      <th>Sp. Def</th>\n",
       "      <th>Speed</th>\n",
       "      <th>Generation</th>\n",
       "      <th>Legendary</th>\n",
       "    </tr>\n",
       "  </thead>\n",
       "  <tbody>\n",
       "    <tr>\n",
       "      <th>795</th>\n",
       "      <td>719</td>\n",
       "      <td>Diancie</td>\n",
       "      <td>Rock</td>\n",
       "      <td>Fairy</td>\n",
       "      <td>600</td>\n",
       "      <td>50</td>\n",
       "      <td>100</td>\n",
       "      <td>150</td>\n",
       "      <td>100</td>\n",
       "      <td>150</td>\n",
       "      <td>50</td>\n",
       "      <td>6</td>\n",
       "      <td>True</td>\n",
       "    </tr>\n",
       "    <tr>\n",
       "      <th>796</th>\n",
       "      <td>719</td>\n",
       "      <td>DiancieMega Diancie</td>\n",
       "      <td>Rock</td>\n",
       "      <td>Fairy</td>\n",
       "      <td>700</td>\n",
       "      <td>50</td>\n",
       "      <td>160</td>\n",
       "      <td>110</td>\n",
       "      <td>160</td>\n",
       "      <td>110</td>\n",
       "      <td>110</td>\n",
       "      <td>6</td>\n",
       "      <td>True</td>\n",
       "    </tr>\n",
       "    <tr>\n",
       "      <th>797</th>\n",
       "      <td>720</td>\n",
       "      <td>HoopaHoopa Confined</td>\n",
       "      <td>Psychic</td>\n",
       "      <td>Ghost</td>\n",
       "      <td>600</td>\n",
       "      <td>80</td>\n",
       "      <td>110</td>\n",
       "      <td>60</td>\n",
       "      <td>150</td>\n",
       "      <td>130</td>\n",
       "      <td>70</td>\n",
       "      <td>6</td>\n",
       "      <td>True</td>\n",
       "    </tr>\n",
       "    <tr>\n",
       "      <th>798</th>\n",
       "      <td>720</td>\n",
       "      <td>HoopaHoopa Unbound</td>\n",
       "      <td>Psychic</td>\n",
       "      <td>Dark</td>\n",
       "      <td>680</td>\n",
       "      <td>80</td>\n",
       "      <td>160</td>\n",
       "      <td>60</td>\n",
       "      <td>170</td>\n",
       "      <td>130</td>\n",
       "      <td>80</td>\n",
       "      <td>6</td>\n",
       "      <td>True</td>\n",
       "    </tr>\n",
       "    <tr>\n",
       "      <th>799</th>\n",
       "      <td>721</td>\n",
       "      <td>Volcanion</td>\n",
       "      <td>Fire</td>\n",
       "      <td>Water</td>\n",
       "      <td>600</td>\n",
       "      <td>80</td>\n",
       "      <td>110</td>\n",
       "      <td>120</td>\n",
       "      <td>130</td>\n",
       "      <td>90</td>\n",
       "      <td>70</td>\n",
       "      <td>6</td>\n",
       "      <td>True</td>\n",
       "    </tr>\n",
       "  </tbody>\n",
       "</table>\n",
       "</div>"
      ],
      "text/plain": [
       "       #                 Name   Type 1 Type 2  Total  HP  Attack  Defense  \\\n",
       "795  719              Diancie     Rock  Fairy    600  50     100      150   \n",
       "796  719  DiancieMega Diancie     Rock  Fairy    700  50     160      110   \n",
       "797  720  HoopaHoopa Confined  Psychic  Ghost    600  80     110       60   \n",
       "798  720   HoopaHoopa Unbound  Psychic   Dark    680  80     160       60   \n",
       "799  721            Volcanion     Fire  Water    600  80     110      120   \n",
       "\n",
       "     Sp. Atk  Sp. Def  Speed  Generation  Legendary  \n",
       "795      100      150     50           6       True  \n",
       "796      160      110    110           6       True  \n",
       "797      150      130     70           6       True  \n",
       "798      170      130     80           6       True  \n",
       "799      130       90     70           6       True  "
      ]
     },
     "execution_count": 5,
     "metadata": {},
     "output_type": "execute_result"
    }
   ],
   "source": [
    "data.tail()"
   ]
  },
  {
   "cell_type": "code",
   "execution_count": 6,
   "metadata": {},
   "outputs": [
    {
     "data": {
      "text/plain": [
       "RangeIndex(start=0, stop=800, step=1)"
      ]
     },
     "execution_count": 6,
     "metadata": {},
     "output_type": "execute_result"
    }
   ],
   "source": [
    "data.index"
   ]
  },
  {
   "cell_type": "code",
   "execution_count": 7,
   "metadata": {},
   "outputs": [
    {
     "data": {
      "text/html": [
       "<div>\n",
       "<style scoped>\n",
       "    .dataframe tbody tr th:only-of-type {\n",
       "        vertical-align: middle;\n",
       "    }\n",
       "\n",
       "    .dataframe tbody tr th {\n",
       "        vertical-align: top;\n",
       "    }\n",
       "\n",
       "    .dataframe thead th {\n",
       "        text-align: right;\n",
       "    }\n",
       "</style>\n",
       "<table border=\"1\" class=\"dataframe\">\n",
       "  <thead>\n",
       "    <tr style=\"text-align: right;\">\n",
       "      <th></th>\n",
       "      <th>#</th>\n",
       "      <th>Total</th>\n",
       "      <th>HP</th>\n",
       "      <th>Attack</th>\n",
       "      <th>Defense</th>\n",
       "      <th>Sp. Atk</th>\n",
       "      <th>Sp. Def</th>\n",
       "      <th>Speed</th>\n",
       "      <th>Generation</th>\n",
       "    </tr>\n",
       "  </thead>\n",
       "  <tbody>\n",
       "    <tr>\n",
       "      <th>count</th>\n",
       "      <td>800.000000</td>\n",
       "      <td>800.00000</td>\n",
       "      <td>800.000000</td>\n",
       "      <td>800.000000</td>\n",
       "      <td>800.000000</td>\n",
       "      <td>800.000000</td>\n",
       "      <td>800.000000</td>\n",
       "      <td>800.000000</td>\n",
       "      <td>800.00000</td>\n",
       "    </tr>\n",
       "    <tr>\n",
       "      <th>mean</th>\n",
       "      <td>362.813750</td>\n",
       "      <td>435.10250</td>\n",
       "      <td>69.258750</td>\n",
       "      <td>79.001250</td>\n",
       "      <td>73.842500</td>\n",
       "      <td>72.820000</td>\n",
       "      <td>71.902500</td>\n",
       "      <td>68.277500</td>\n",
       "      <td>3.32375</td>\n",
       "    </tr>\n",
       "    <tr>\n",
       "      <th>std</th>\n",
       "      <td>208.343798</td>\n",
       "      <td>119.96304</td>\n",
       "      <td>25.534669</td>\n",
       "      <td>32.457366</td>\n",
       "      <td>31.183501</td>\n",
       "      <td>32.722294</td>\n",
       "      <td>27.828916</td>\n",
       "      <td>29.060474</td>\n",
       "      <td>1.66129</td>\n",
       "    </tr>\n",
       "    <tr>\n",
       "      <th>min</th>\n",
       "      <td>1.000000</td>\n",
       "      <td>180.00000</td>\n",
       "      <td>1.000000</td>\n",
       "      <td>5.000000</td>\n",
       "      <td>5.000000</td>\n",
       "      <td>10.000000</td>\n",
       "      <td>20.000000</td>\n",
       "      <td>5.000000</td>\n",
       "      <td>1.00000</td>\n",
       "    </tr>\n",
       "    <tr>\n",
       "      <th>25%</th>\n",
       "      <td>184.750000</td>\n",
       "      <td>330.00000</td>\n",
       "      <td>50.000000</td>\n",
       "      <td>55.000000</td>\n",
       "      <td>50.000000</td>\n",
       "      <td>49.750000</td>\n",
       "      <td>50.000000</td>\n",
       "      <td>45.000000</td>\n",
       "      <td>2.00000</td>\n",
       "    </tr>\n",
       "    <tr>\n",
       "      <th>50%</th>\n",
       "      <td>364.500000</td>\n",
       "      <td>450.00000</td>\n",
       "      <td>65.000000</td>\n",
       "      <td>75.000000</td>\n",
       "      <td>70.000000</td>\n",
       "      <td>65.000000</td>\n",
       "      <td>70.000000</td>\n",
       "      <td>65.000000</td>\n",
       "      <td>3.00000</td>\n",
       "    </tr>\n",
       "    <tr>\n",
       "      <th>75%</th>\n",
       "      <td>539.250000</td>\n",
       "      <td>515.00000</td>\n",
       "      <td>80.000000</td>\n",
       "      <td>100.000000</td>\n",
       "      <td>90.000000</td>\n",
       "      <td>95.000000</td>\n",
       "      <td>90.000000</td>\n",
       "      <td>90.000000</td>\n",
       "      <td>5.00000</td>\n",
       "    </tr>\n",
       "    <tr>\n",
       "      <th>max</th>\n",
       "      <td>721.000000</td>\n",
       "      <td>780.00000</td>\n",
       "      <td>255.000000</td>\n",
       "      <td>190.000000</td>\n",
       "      <td>230.000000</td>\n",
       "      <td>194.000000</td>\n",
       "      <td>230.000000</td>\n",
       "      <td>180.000000</td>\n",
       "      <td>6.00000</td>\n",
       "    </tr>\n",
       "  </tbody>\n",
       "</table>\n",
       "</div>"
      ],
      "text/plain": [
       "                #      Total          HP      Attack     Defense     Sp. Atk  \\\n",
       "count  800.000000  800.00000  800.000000  800.000000  800.000000  800.000000   \n",
       "mean   362.813750  435.10250   69.258750   79.001250   73.842500   72.820000   \n",
       "std    208.343798  119.96304   25.534669   32.457366   31.183501   32.722294   \n",
       "min      1.000000  180.00000    1.000000    5.000000    5.000000   10.000000   \n",
       "25%    184.750000  330.00000   50.000000   55.000000   50.000000   49.750000   \n",
       "50%    364.500000  450.00000   65.000000   75.000000   70.000000   65.000000   \n",
       "75%    539.250000  515.00000   80.000000  100.000000   90.000000   95.000000   \n",
       "max    721.000000  780.00000  255.000000  190.000000  230.000000  194.000000   \n",
       "\n",
       "          Sp. Def       Speed  Generation  \n",
       "count  800.000000  800.000000   800.00000  \n",
       "mean    71.902500   68.277500     3.32375  \n",
       "std     27.828916   29.060474     1.66129  \n",
       "min     20.000000    5.000000     1.00000  \n",
       "25%     50.000000   45.000000     2.00000  \n",
       "50%     70.000000   65.000000     3.00000  \n",
       "75%     90.000000   90.000000     5.00000  \n",
       "max    230.000000  180.000000     6.00000  "
      ]
     },
     "execution_count": 7,
     "metadata": {},
     "output_type": "execute_result"
    }
   ],
   "source": [
    "data.describe()"
   ]
  },
  {
   "cell_type": "markdown",
   "metadata": {},
   "source": [
    "Построим матрицу рассеяния, чтобы рассмотреть корреляцию между парами признаков:"
   ]
  },
  {
   "cell_type": "code",
   "execution_count": 241,
   "metadata": {},
   "outputs": [
    {
     "data": {
      "image/png": "[encoded data removed]",
      "text/plain": [
       "<Figure size 720x720 with 81 Axes>"
      ]
     },
     "metadata": {},
     "output_type": "display_data"
    }
   ],
   "source": [
    "from pandas.plotting import scatter_matrix\n",
    "\n",
    "#преобразуем столбец data['Legendary'] типа bool к целочисленному типу, чтобы включить его в матрицу рассеяния\n",
    "data['Legendary'] = np.where(data['Legendary'], 1, 0)\n",
    "\n",
    "scatter_matrix(data.iloc[:, 4:13], alpha = .01, figsize = (10, 10))\n",
    "pass"
   ]
  },
  {
   "cell_type": "markdown",
   "metadata": {},
   "source": [
    "Можно заметить, что по многим признакам наблюдается почти линейная зависимость. Более всего это заметно для Defense и Sp. Def:"
   ]
  },
  {
   "cell_type": "code",
   "execution_count": 242,
   "metadata": {},
   "outputs": [
    {
     "data": {
      "image/png": "[encoded data removed]",
      "text/plain": [
       "<Figure size 432x288 with 1 Axes>"
      ]
     },
     "metadata": {},
     "output_type": "display_data"
    }
   ],
   "source": [
    "plt.plot(data['Defense'], data['Sp. Def'], 'o', alpha = 0.1)\n",
    "plt.xlabel('Defense')\n",
    "plt.ylabel('Sp. Def')\n",
    "plt.title('Defense vs Sp. Def')\n",
    "pass"
   ]
  },
  {
   "cell_type": "code",
   "execution_count": 243,
   "metadata": {},
   "outputs": [
    {
     "data": {
      "text/html": [
       "<div>\n",
       "<style scoped>\n",
       "    .dataframe tbody tr th:only-of-type {\n",
       "        vertical-align: middle;\n",
       "    }\n",
       "\n",
       "    .dataframe tbody tr th {\n",
       "        vertical-align: top;\n",
       "    }\n",
       "\n",
       "    .dataframe thead th {\n",
       "        text-align: right;\n",
       "    }\n",
       "</style>\n",
       "<table border=\"1\" class=\"dataframe\">\n",
       "  <thead>\n",
       "    <tr style=\"text-align: right;\">\n",
       "      <th></th>\n",
       "      <th>#</th>\n",
       "      <th>Total</th>\n",
       "      <th>HP</th>\n",
       "      <th>Attack</th>\n",
       "      <th>Defense</th>\n",
       "      <th>Sp. Atk</th>\n",
       "      <th>Sp. Def</th>\n",
       "      <th>Speed</th>\n",
       "      <th>Generation</th>\n",
       "      <th>Legendary</th>\n",
       "    </tr>\n",
       "  </thead>\n",
       "  <tbody>\n",
       "    <tr>\n",
       "      <th>#</th>\n",
       "      <td>1.000000</td>\n",
       "      <td>0.119813</td>\n",
       "      <td>0.097614</td>\n",
       "      <td>0.102298</td>\n",
       "      <td>0.094786</td>\n",
       "      <td>0.088759</td>\n",
       "      <td>0.085817</td>\n",
       "      <td>0.010733</td>\n",
       "      <td>0.982516</td>\n",
       "      <td>0.153396</td>\n",
       "    </tr>\n",
       "    <tr>\n",
       "      <th>Total</th>\n",
       "      <td>0.119813</td>\n",
       "      <td>1.000000</td>\n",
       "      <td>0.618748</td>\n",
       "      <td>0.736211</td>\n",
       "      <td>0.612787</td>\n",
       "      <td>0.747250</td>\n",
       "      <td>0.717609</td>\n",
       "      <td>0.575943</td>\n",
       "      <td>0.048384</td>\n",
       "      <td>0.501758</td>\n",
       "    </tr>\n",
       "    <tr>\n",
       "      <th>HP</th>\n",
       "      <td>0.097614</td>\n",
       "      <td>0.618748</td>\n",
       "      <td>1.000000</td>\n",
       "      <td>0.422386</td>\n",
       "      <td>0.239622</td>\n",
       "      <td>0.362380</td>\n",
       "      <td>0.378718</td>\n",
       "      <td>0.175952</td>\n",
       "      <td>0.058683</td>\n",
       "      <td>0.273620</td>\n",
       "    </tr>\n",
       "    <tr>\n",
       "      <th>Attack</th>\n",
       "      <td>0.102298</td>\n",
       "      <td>0.736211</td>\n",
       "      <td>0.422386</td>\n",
       "      <td>1.000000</td>\n",
       "      <td>0.438687</td>\n",
       "      <td>0.396362</td>\n",
       "      <td>0.263990</td>\n",
       "      <td>0.381240</td>\n",
       "      <td>0.051451</td>\n",
       "      <td>0.345408</td>\n",
       "    </tr>\n",
       "    <tr>\n",
       "      <th>Defense</th>\n",
       "      <td>0.094786</td>\n",
       "      <td>0.612787</td>\n",
       "      <td>0.239622</td>\n",
       "      <td>0.438687</td>\n",
       "      <td>1.000000</td>\n",
       "      <td>0.223549</td>\n",
       "      <td>0.510747</td>\n",
       "      <td>0.015227</td>\n",
       "      <td>0.042419</td>\n",
       "      <td>0.246377</td>\n",
       "    </tr>\n",
       "    <tr>\n",
       "      <th>Sp. Atk</th>\n",
       "      <td>0.088759</td>\n",
       "      <td>0.747250</td>\n",
       "      <td>0.362380</td>\n",
       "      <td>0.396362</td>\n",
       "      <td>0.223549</td>\n",
       "      <td>1.000000</td>\n",
       "      <td>0.506121</td>\n",
       "      <td>0.473018</td>\n",
       "      <td>0.036437</td>\n",
       "      <td>0.448907</td>\n",
       "    </tr>\n",
       "    <tr>\n",
       "      <th>Sp. Def</th>\n",
       "      <td>0.085817</td>\n",
       "      <td>0.717609</td>\n",
       "      <td>0.378718</td>\n",
       "      <td>0.263990</td>\n",
       "      <td>0.510747</td>\n",
       "      <td>0.506121</td>\n",
       "      <td>1.000000</td>\n",
       "      <td>0.259133</td>\n",
       "      <td>0.028486</td>\n",
       "      <td>0.363937</td>\n",
       "    </tr>\n",
       "    <tr>\n",
       "      <th>Speed</th>\n",
       "      <td>0.010733</td>\n",
       "      <td>0.575943</td>\n",
       "      <td>0.175952</td>\n",
       "      <td>0.381240</td>\n",
       "      <td>0.015227</td>\n",
       "      <td>0.473018</td>\n",
       "      <td>0.259133</td>\n",
       "      <td>1.000000</td>\n",
       "      <td>-0.023121</td>\n",
       "      <td>0.326715</td>\n",
       "    </tr>\n",
       "    <tr>\n",
       "      <th>Generation</th>\n",
       "      <td>0.982516</td>\n",
       "      <td>0.048384</td>\n",
       "      <td>0.058683</td>\n",
       "      <td>0.051451</td>\n",
       "      <td>0.042419</td>\n",
       "      <td>0.036437</td>\n",
       "      <td>0.028486</td>\n",
       "      <td>-0.023121</td>\n",
       "      <td>1.000000</td>\n",
       "      <td>0.079794</td>\n",
       "    </tr>\n",
       "    <tr>\n",
       "      <th>Legendary</th>\n",
       "      <td>0.153396</td>\n",
       "      <td>0.501758</td>\n",
       "      <td>0.273620</td>\n",
       "      <td>0.345408</td>\n",
       "      <td>0.246377</td>\n",
       "      <td>0.448907</td>\n",
       "      <td>0.363937</td>\n",
       "      <td>0.326715</td>\n",
       "      <td>0.079794</td>\n",
       "      <td>1.000000</td>\n",
       "    </tr>\n",
       "  </tbody>\n",
       "</table>\n",
       "</div>"
      ],
      "text/plain": [
       "                   #     Total        HP    Attack   Defense   Sp. Atk  \\\n",
       "#           1.000000  0.119813  0.097614  0.102298  0.094786  0.088759   \n",
       "Total       0.119813  1.000000  0.618748  0.736211  0.612787  0.747250   \n",
       "HP          0.097614  0.618748  1.000000  0.422386  0.239622  0.362380   \n",
       "Attack      0.102298  0.736211  0.422386  1.000000  0.438687  0.396362   \n",
       "Defense     0.094786  0.612787  0.239622  0.438687  1.000000  0.223549   \n",
       "Sp. Atk     0.088759  0.747250  0.362380  0.396362  0.223549  1.000000   \n",
       "Sp. Def     0.085817  0.717609  0.378718  0.263990  0.510747  0.506121   \n",
       "Speed       0.010733  0.575943  0.175952  0.381240  0.015227  0.473018   \n",
       "Generation  0.982516  0.048384  0.058683  0.051451  0.042419  0.036437   \n",
       "Legendary   0.153396  0.501758  0.273620  0.345408  0.246377  0.448907   \n",
       "\n",
       "             Sp. Def     Speed  Generation  Legendary  \n",
       "#           0.085817  0.010733    0.982516   0.153396  \n",
       "Total       0.717609  0.575943    0.048384   0.501758  \n",
       "HP          0.378718  0.175952    0.058683   0.273620  \n",
       "Attack      0.263990  0.381240    0.051451   0.345408  \n",
       "Defense     0.510747  0.015227    0.042419   0.246377  \n",
       "Sp. Atk     0.506121  0.473018    0.036437   0.448907  \n",
       "Sp. Def     1.000000  0.259133    0.028486   0.363937  \n",
       "Speed       0.259133  1.000000   -0.023121   0.326715  \n",
       "Generation  0.028486 -0.023121    1.000000   0.079794  \n",
       "Legendary   0.363937  0.326715    0.079794   1.000000  "
      ]
     },
     "execution_count": 243,
     "metadata": {},
     "output_type": "execute_result"
    }
   ],
   "source": [
    "data.corr()"
   ]
  },
  {
   "cell_type": "markdown",
   "metadata": {},
   "source": [
    "Если теперь рассмотреть отдельно сумарное значение по всем показателям `Total`, поколение `Generation` и легендарность `Legendary`, то будет видно, что в каждом поколении pokemon-ы с наивысшими показателями являются легендарными, что вполне ожидаемо."
   ]
  },
  {
   "cell_type": "code",
   "execution_count": 244,
   "metadata": {},
   "outputs": [
    {
     "data": {
      "image/png": "[encoded data removed]",
      "text/plain": [
       "<Figure size 720x432 with 1 Axes>"
      ]
     },
     "metadata": {},
     "output_type": "display_data"
    }
   ],
   "source": [
    "plt.figure(figsize = (10, 6))\n",
    "\n",
    "plt.scatter(data[data['Legendary'] == 1]['Total'] / np.max(data['Total']),\n",
    "            data[data['Legendary'] == 1]['Generation'] / np.max(data['Generation']),\n",
    "            alpha = 0.6,\n",
    "            label = 'Legendary',\n",
    "            color = 'b')\n",
    "\n",
    "plt.scatter(data[data['Legendary'] == 0]['Total'] / np.max(data['Total']),\n",
    "            data[data['Legendary'] == 0]['Generation'] / np.max(data['Generation']),\n",
    "            alpha = 0.6,\n",
    "            label = 'Not legendary',\n",
    "            color = 'r')\n",
    "\n",
    "plt.title('')\n",
    "plt.xlabel('Total')\n",
    "plt.ylabel('Generation')\n",
    "plt.xlim(0, 1.1)\n",
    "plt.legend()\n",
    "plt.grid()"
   ]
  },
  {
   "cell_type": "markdown",
   "metadata": {},
   "source": [
    "### Подготовка данных"
   ]
  },
  {
   "cell_type": "code",
   "execution_count": 245,
   "metadata": {},
   "outputs": [
    {
     "data": {
      "text/html": [
       "<div>\n",
       "<style scoped>\n",
       "    .dataframe tbody tr th:only-of-type {\n",
       "        vertical-align: middle;\n",
       "    }\n",
       "\n",
       "    .dataframe tbody tr th {\n",
       "        vertical-align: top;\n",
       "    }\n",
       "\n",
       "    .dataframe thead th {\n",
       "        text-align: right;\n",
       "    }\n",
       "</style>\n",
       "<table border=\"1\" class=\"dataframe\">\n",
       "  <thead>\n",
       "    <tr style=\"text-align: right;\">\n",
       "      <th></th>\n",
       "      <th>#</th>\n",
       "      <th>Name</th>\n",
       "      <th>Type 1</th>\n",
       "      <th>Type 2</th>\n",
       "      <th>Total</th>\n",
       "      <th>HP</th>\n",
       "      <th>Attack</th>\n",
       "      <th>Defense</th>\n",
       "      <th>Sp. Atk</th>\n",
       "      <th>Sp. Def</th>\n",
       "      <th>Speed</th>\n",
       "      <th>Generation</th>\n",
       "      <th>Legendary</th>\n",
       "    </tr>\n",
       "  </thead>\n",
       "  <tbody>\n",
       "    <tr>\n",
       "      <th>count</th>\n",
       "      <td>800.000000</td>\n",
       "      <td>800</td>\n",
       "      <td>800</td>\n",
       "      <td>414</td>\n",
       "      <td>800.00000</td>\n",
       "      <td>800.000000</td>\n",
       "      <td>800.000000</td>\n",
       "      <td>800.000000</td>\n",
       "      <td>800.000000</td>\n",
       "      <td>800.000000</td>\n",
       "      <td>800.000000</td>\n",
       "      <td>800.00000</td>\n",
       "      <td>800.00000</td>\n",
       "    </tr>\n",
       "    <tr>\n",
       "      <th>unique</th>\n",
       "      <td>NaN</td>\n",
       "      <td>800</td>\n",
       "      <td>18</td>\n",
       "      <td>18</td>\n",
       "      <td>NaN</td>\n",
       "      <td>NaN</td>\n",
       "      <td>NaN</td>\n",
       "      <td>NaN</td>\n",
       "      <td>NaN</td>\n",
       "      <td>NaN</td>\n",
       "      <td>NaN</td>\n",
       "      <td>NaN</td>\n",
       "      <td>NaN</td>\n",
       "    </tr>\n",
       "    <tr>\n",
       "      <th>top</th>\n",
       "      <td>NaN</td>\n",
       "      <td>Wobbuffet</td>\n",
       "      <td>Water</td>\n",
       "      <td>Flying</td>\n",
       "      <td>NaN</td>\n",
       "      <td>NaN</td>\n",
       "      <td>NaN</td>\n",
       "      <td>NaN</td>\n",
       "      <td>NaN</td>\n",
       "      <td>NaN</td>\n",
       "      <td>NaN</td>\n",
       "      <td>NaN</td>\n",
       "      <td>NaN</td>\n",
       "    </tr>\n",
       "    <tr>\n",
       "      <th>freq</th>\n",
       "      <td>NaN</td>\n",
       "      <td>1</td>\n",
       "      <td>112</td>\n",
       "      <td>97</td>\n",
       "      <td>NaN</td>\n",
       "      <td>NaN</td>\n",
       "      <td>NaN</td>\n",
       "      <td>NaN</td>\n",
       "      <td>NaN</td>\n",
       "      <td>NaN</td>\n",
       "      <td>NaN</td>\n",
       "      <td>NaN</td>\n",
       "      <td>NaN</td>\n",
       "    </tr>\n",
       "    <tr>\n",
       "      <th>mean</th>\n",
       "      <td>362.813750</td>\n",
       "      <td>NaN</td>\n",
       "      <td>NaN</td>\n",
       "      <td>NaN</td>\n",
       "      <td>435.10250</td>\n",
       "      <td>69.258750</td>\n",
       "      <td>79.001250</td>\n",
       "      <td>73.842500</td>\n",
       "      <td>72.820000</td>\n",
       "      <td>71.902500</td>\n",
       "      <td>68.277500</td>\n",
       "      <td>3.32375</td>\n",
       "      <td>0.08125</td>\n",
       "    </tr>\n",
       "    <tr>\n",
       "      <th>std</th>\n",
       "      <td>208.343798</td>\n",
       "      <td>NaN</td>\n",
       "      <td>NaN</td>\n",
       "      <td>NaN</td>\n",
       "      <td>119.96304</td>\n",
       "      <td>25.534669</td>\n",
       "      <td>32.457366</td>\n",
       "      <td>31.183501</td>\n",
       "      <td>32.722294</td>\n",
       "      <td>27.828916</td>\n",
       "      <td>29.060474</td>\n",
       "      <td>1.66129</td>\n",
       "      <td>0.27339</td>\n",
       "    </tr>\n",
       "    <tr>\n",
       "      <th>min</th>\n",
       "      <td>1.000000</td>\n",
       "      <td>NaN</td>\n",
       "      <td>NaN</td>\n",
       "      <td>NaN</td>\n",
       "      <td>180.00000</td>\n",
       "      <td>1.000000</td>\n",
       "      <td>5.000000</td>\n",
       "      <td>5.000000</td>\n",
       "      <td>10.000000</td>\n",
       "      <td>20.000000</td>\n",
       "      <td>5.000000</td>\n",
       "      <td>1.00000</td>\n",
       "      <td>0.00000</td>\n",
       "    </tr>\n",
       "    <tr>\n",
       "      <th>25%</th>\n",
       "      <td>184.750000</td>\n",
       "      <td>NaN</td>\n",
       "      <td>NaN</td>\n",
       "      <td>NaN</td>\n",
       "      <td>330.00000</td>\n",
       "      <td>50.000000</td>\n",
       "      <td>55.000000</td>\n",
       "      <td>50.000000</td>\n",
       "      <td>49.750000</td>\n",
       "      <td>50.000000</td>\n",
       "      <td>45.000000</td>\n",
       "      <td>2.00000</td>\n",
       "      <td>0.00000</td>\n",
       "    </tr>\n",
       "    <tr>\n",
       "      <th>50%</th>\n",
       "      <td>364.500000</td>\n",
       "      <td>NaN</td>\n",
       "      <td>NaN</td>\n",
       "      <td>NaN</td>\n",
       "      <td>450.00000</td>\n",
       "      <td>65.000000</td>\n",
       "      <td>75.000000</td>\n",
       "      <td>70.000000</td>\n",
       "      <td>65.000000</td>\n",
       "      <td>70.000000</td>\n",
       "      <td>65.000000</td>\n",
       "      <td>3.00000</td>\n",
       "      <td>0.00000</td>\n",
       "    </tr>\n",
       "    <tr>\n",
       "      <th>75%</th>\n",
       "      <td>539.250000</td>\n",
       "      <td>NaN</td>\n",
       "      <td>NaN</td>\n",
       "      <td>NaN</td>\n",
       "      <td>515.00000</td>\n",
       "      <td>80.000000</td>\n",
       "      <td>100.000000</td>\n",
       "      <td>90.000000</td>\n",
       "      <td>95.000000</td>\n",
       "      <td>90.000000</td>\n",
       "      <td>90.000000</td>\n",
       "      <td>5.00000</td>\n",
       "      <td>0.00000</td>\n",
       "    </tr>\n",
       "    <tr>\n",
       "      <th>max</th>\n",
       "      <td>721.000000</td>\n",
       "      <td>NaN</td>\n",
       "      <td>NaN</td>\n",
       "      <td>NaN</td>\n",
       "      <td>780.00000</td>\n",
       "      <td>255.000000</td>\n",
       "      <td>190.000000</td>\n",
       "      <td>230.000000</td>\n",
       "      <td>194.000000</td>\n",
       "      <td>230.000000</td>\n",
       "      <td>180.000000</td>\n",
       "      <td>6.00000</td>\n",
       "      <td>1.00000</td>\n",
       "    </tr>\n",
       "  </tbody>\n",
       "</table>\n",
       "</div>"
      ],
      "text/plain": [
       "                 #       Name Type 1  Type 2      Total          HP  \\\n",
       "count   800.000000        800    800     414  800.00000  800.000000   \n",
       "unique         NaN        800     18      18        NaN         NaN   \n",
       "top            NaN  Wobbuffet  Water  Flying        NaN         NaN   \n",
       "freq           NaN          1    112      97        NaN         NaN   \n",
       "mean    362.813750        NaN    NaN     NaN  435.10250   69.258750   \n",
       "std     208.343798        NaN    NaN     NaN  119.96304   25.534669   \n",
       "min       1.000000        NaN    NaN     NaN  180.00000    1.000000   \n",
       "25%     184.750000        NaN    NaN     NaN  330.00000   50.000000   \n",
       "50%     364.500000        NaN    NaN     NaN  450.00000   65.000000   \n",
       "75%     539.250000        NaN    NaN     NaN  515.00000   80.000000   \n",
       "max     721.000000        NaN    NaN     NaN  780.00000  255.000000   \n",
       "\n",
       "            Attack     Defense     Sp. Atk     Sp. Def       Speed  \\\n",
       "count   800.000000  800.000000  800.000000  800.000000  800.000000   \n",
       "unique         NaN         NaN         NaN         NaN         NaN   \n",
       "top            NaN         NaN         NaN         NaN         NaN   \n",
       "freq           NaN         NaN         NaN         NaN         NaN   \n",
       "mean     79.001250   73.842500   72.820000   71.902500   68.277500   \n",
       "std      32.457366   31.183501   32.722294   27.828916   29.060474   \n",
       "min       5.000000    5.000000   10.000000   20.000000    5.000000   \n",
       "25%      55.000000   50.000000   49.750000   50.000000   45.000000   \n",
       "50%      75.000000   70.000000   65.000000   70.000000   65.000000   \n",
       "75%     100.000000   90.000000   95.000000   90.000000   90.000000   \n",
       "max     190.000000  230.000000  194.000000  230.000000  180.000000   \n",
       "\n",
       "        Generation  Legendary  \n",
       "count    800.00000  800.00000  \n",
       "unique         NaN        NaN  \n",
       "top            NaN        NaN  \n",
       "freq           NaN        NaN  \n",
       "mean       3.32375    0.08125  \n",
       "std        1.66129    0.27339  \n",
       "min        1.00000    0.00000  \n",
       "25%        2.00000    0.00000  \n",
       "50%        3.00000    0.00000  \n",
       "75%        5.00000    0.00000  \n",
       "max        6.00000    1.00000  "
      ]
     },
     "execution_count": 245,
     "metadata": {},
     "output_type": "execute_result"
    }
   ],
   "source": [
    "data.describe(include = 'all')"
   ]
  },
  {
   "cell_type": "markdown",
   "metadata": {},
   "source": [
    "Как уже упоминалось ранее, признак `Type 2` не является обязательным для экземпляра, потому его значение есть не всегда:"
   ]
  },
  {
   "cell_type": "code",
   "execution_count": 246,
   "metadata": {},
   "outputs": [
    {
     "data": {
      "text/plain": [
       "#             800\n",
       "Name          800\n",
       "Type 1        800\n",
       "Type 2        414\n",
       "Total         800\n",
       "HP            800\n",
       "Attack        800\n",
       "Defense       800\n",
       "Sp. Atk       800\n",
       "Sp. Def       800\n",
       "Speed         800\n",
       "Generation    800\n",
       "Legendary     800\n",
       "dtype: int64"
      ]
     },
     "execution_count": 246,
     "metadata": {},
     "output_type": "execute_result"
    }
   ],
   "source": [
    "data.count(axis = 0)"
   ]
  },
  {
   "cell_type": "markdown",
   "metadata": {},
   "source": [
    "Всвязи со спецификой признака `Type 2`, его нельзя заменить самым популярным в столбце, а учитывая, что его нет почти у половины экземпляров, то удалять строки с пропущенным значением будет значить сократить набор данных вдвое. Потому столбец с этим признаком просто удаляется. \n",
    "\n",
    "Так же логичным будет убрать столбец с наименованием (`Name`), поскольку он уникален для каждого экземпляра. "
   ]
  },
  {
   "cell_type": "code",
   "execution_count": 283,
   "metadata": {},
   "outputs": [
    {
     "data": {
      "text/plain": [
       "#             800\n",
       "Type 1        800\n",
       "Total         800\n",
       "HP            800\n",
       "Attack        800\n",
       "Defense       800\n",
       "Sp. Atk       800\n",
       "Sp. Def       800\n",
       "Speed         800\n",
       "Generation    800\n",
       "Legendary     800\n",
       "dtype: int64"
      ]
     },
     "execution_count": 283,
     "metadata": {},
     "output_type": "execute_result"
    }
   ],
   "source": [
    "data = data.drop('Name',   axis = 1)\\\n",
    "           .drop('Type 2', axis = 1)\n",
    "\n",
    "#Для повторного исследования можно убрать и признак 'Total', поскольку он делает задачу слишком простой\n",
    "#data = data.drop('Total', axis = 1)\n",
    "\n",
    "data.count(axis = 0)"
   ]
  },
  {
   "cell_type": "markdown",
   "metadata": {},
   "source": [
    "Для удобства, разделим исходный набор `data` на два поднабора `data_categorical` и `data_numerical`, содержащие категориальные и количественные признаки соответственно."
   ]
  },
  {
   "cell_type": "code",
   "execution_count": 284,
   "metadata": {},
   "outputs": [],
   "source": [
    "categorical_columns = [c for c in data.columns if data[c].dtype.name == 'object']\n",
    "numerical_columns   = [c for c in data.columns if data[c].dtype.name != 'object' and data[c].name != 'Legendary']\n",
    "\n",
    "data_categorical = data[categorical_columns]\n",
    "data_numerical = data[numerical_columns]"
   ]
  },
  {
   "cell_type": "markdown",
   "metadata": {},
   "source": [
    "Причем в набор количественных признаков не включается признак `Legendary`, поскольку он уже приведен к виду меток класса и более менять его не нужно."
   ]
  },
  {
   "cell_type": "markdown",
   "metadata": {},
   "source": [
    "#### Категориальные признаки\n",
    "\n",
    "Чтобы работать с категориальными признаками проводится процедура векторизации, где последний оставшейся категориальны призак `Type 1` заменяется на множество бинарных количественных признаков, включеющее в себя все значения признака `Type 1` (а их 18) и далее, когда экземпляр принимает некоторое значение из этого множества, то соотверствующий бинарный признак принимает значение `1`, а остальные - `0`."
   ]
  },
  {
   "cell_type": "code",
   "execution_count": 285,
   "metadata": {},
   "outputs": [
    {
     "name": "stdout",
     "output_type": "stream",
     "text": [
      "Index(['Type 1_Bug', 'Type 1_Dark', 'Type 1_Dragon', 'Type 1_Electric',\n",
      "       'Type 1_Fairy', 'Type 1_Fighting', 'Type 1_Fire', 'Type 1_Flying',\n",
      "       'Type 1_Ghost', 'Type 1_Grass', 'Type 1_Ground', 'Type 1_Ice',\n",
      "       'Type 1_Normal', 'Type 1_Poison', 'Type 1_Psychic', 'Type 1_Rock',\n",
      "       'Type 1_Steel', 'Type 1_Water'],\n",
      "      dtype='object')\n"
     ]
    }
   ],
   "source": [
    "data_categorical = pd.get_dummies(data_categorical)\n",
    "print(data_categorical.columns)"
   ]
  },
  {
   "cell_type": "markdown",
   "metadata": {},
   "source": [
    "#### Количественне признаки"
   ]
  },
  {
   "cell_type": "code",
   "execution_count": 286,
   "metadata": {},
   "outputs": [
    {
     "data": {
      "text/html": [
       "<div>\n",
       "<style scoped>\n",
       "    .dataframe tbody tr th:only-of-type {\n",
       "        vertical-align: middle;\n",
       "    }\n",
       "\n",
       "    .dataframe tbody tr th {\n",
       "        vertical-align: top;\n",
       "    }\n",
       "\n",
       "    .dataframe thead th {\n",
       "        text-align: right;\n",
       "    }\n",
       "</style>\n",
       "<table border=\"1\" class=\"dataframe\">\n",
       "  <thead>\n",
       "    <tr style=\"text-align: right;\">\n",
       "      <th></th>\n",
       "      <th>#</th>\n",
       "      <th>Total</th>\n",
       "      <th>HP</th>\n",
       "      <th>Attack</th>\n",
       "      <th>Defense</th>\n",
       "      <th>Sp. Atk</th>\n",
       "      <th>Sp. Def</th>\n",
       "      <th>Speed</th>\n",
       "      <th>Generation</th>\n",
       "    </tr>\n",
       "  </thead>\n",
       "  <tbody>\n",
       "    <tr>\n",
       "      <th>count</th>\n",
       "      <td>800.000000</td>\n",
       "      <td>800.00000</td>\n",
       "      <td>800.000000</td>\n",
       "      <td>800.000000</td>\n",
       "      <td>800.000000</td>\n",
       "      <td>800.000000</td>\n",
       "      <td>800.000000</td>\n",
       "      <td>800.000000</td>\n",
       "      <td>800.00000</td>\n",
       "    </tr>\n",
       "    <tr>\n",
       "      <th>mean</th>\n",
       "      <td>362.813750</td>\n",
       "      <td>435.10250</td>\n",
       "      <td>69.258750</td>\n",
       "      <td>79.001250</td>\n",
       "      <td>73.842500</td>\n",
       "      <td>72.820000</td>\n",
       "      <td>71.902500</td>\n",
       "      <td>68.277500</td>\n",
       "      <td>3.32375</td>\n",
       "    </tr>\n",
       "    <tr>\n",
       "      <th>std</th>\n",
       "      <td>208.343798</td>\n",
       "      <td>119.96304</td>\n",
       "      <td>25.534669</td>\n",
       "      <td>32.457366</td>\n",
       "      <td>31.183501</td>\n",
       "      <td>32.722294</td>\n",
       "      <td>27.828916</td>\n",
       "      <td>29.060474</td>\n",
       "      <td>1.66129</td>\n",
       "    </tr>\n",
       "    <tr>\n",
       "      <th>min</th>\n",
       "      <td>1.000000</td>\n",
       "      <td>180.00000</td>\n",
       "      <td>1.000000</td>\n",
       "      <td>5.000000</td>\n",
       "      <td>5.000000</td>\n",
       "      <td>10.000000</td>\n",
       "      <td>20.000000</td>\n",
       "      <td>5.000000</td>\n",
       "      <td>1.00000</td>\n",
       "    </tr>\n",
       "    <tr>\n",
       "      <th>25%</th>\n",
       "      <td>184.750000</td>\n",
       "      <td>330.00000</td>\n",
       "      <td>50.000000</td>\n",
       "      <td>55.000000</td>\n",
       "      <td>50.000000</td>\n",
       "      <td>49.750000</td>\n",
       "      <td>50.000000</td>\n",
       "      <td>45.000000</td>\n",
       "      <td>2.00000</td>\n",
       "    </tr>\n",
       "    <tr>\n",
       "      <th>50%</th>\n",
       "      <td>364.500000</td>\n",
       "      <td>450.00000</td>\n",
       "      <td>65.000000</td>\n",
       "      <td>75.000000</td>\n",
       "      <td>70.000000</td>\n",
       "      <td>65.000000</td>\n",
       "      <td>70.000000</td>\n",
       "      <td>65.000000</td>\n",
       "      <td>3.00000</td>\n",
       "    </tr>\n",
       "    <tr>\n",
       "      <th>75%</th>\n",
       "      <td>539.250000</td>\n",
       "      <td>515.00000</td>\n",
       "      <td>80.000000</td>\n",
       "      <td>100.000000</td>\n",
       "      <td>90.000000</td>\n",
       "      <td>95.000000</td>\n",
       "      <td>90.000000</td>\n",
       "      <td>90.000000</td>\n",
       "      <td>5.00000</td>\n",
       "    </tr>\n",
       "    <tr>\n",
       "      <th>max</th>\n",
       "      <td>721.000000</td>\n",
       "      <td>780.00000</td>\n",
       "      <td>255.000000</td>\n",
       "      <td>190.000000</td>\n",
       "      <td>230.000000</td>\n",
       "      <td>194.000000</td>\n",
       "      <td>230.000000</td>\n",
       "      <td>180.000000</td>\n",
       "      <td>6.00000</td>\n",
       "    </tr>\n",
       "  </tbody>\n",
       "</table>\n",
       "</div>"
      ],
      "text/plain": [
       "                #      Total          HP      Attack     Defense     Sp. Atk  \\\n",
       "count  800.000000  800.00000  800.000000  800.000000  800.000000  800.000000   \n",
       "mean   362.813750  435.10250   69.258750   79.001250   73.842500   72.820000   \n",
       "std    208.343798  119.96304   25.534669   32.457366   31.183501   32.722294   \n",
       "min      1.000000  180.00000    1.000000    5.000000    5.000000   10.000000   \n",
       "25%    184.750000  330.00000   50.000000   55.000000   50.000000   49.750000   \n",
       "50%    364.500000  450.00000   65.000000   75.000000   70.000000   65.000000   \n",
       "75%    539.250000  515.00000   80.000000  100.000000   90.000000   95.000000   \n",
       "max    721.000000  780.00000  255.000000  190.000000  230.000000  194.000000   \n",
       "\n",
       "          Sp. Def       Speed  Generation  \n",
       "count  800.000000  800.000000   800.00000  \n",
       "mean    71.902500   68.277500     3.32375  \n",
       "std     27.828916   29.060474     1.66129  \n",
       "min     20.000000    5.000000     1.00000  \n",
       "25%     50.000000   45.000000     2.00000  \n",
       "50%     70.000000   65.000000     3.00000  \n",
       "75%     90.000000   90.000000     5.00000  \n",
       "max    230.000000  180.000000     6.00000  "
      ]
     },
     "execution_count": 286,
     "metadata": {},
     "output_type": "execute_result"
    }
   ],
   "source": [
    "data_numerical.describe()"
   ]
  },
  {
   "cell_type": "markdown",
   "metadata": {},
   "source": [
    "Приведем каждый количественный признак к нулевому среднему и единичному среднеквадратичному отклонению:"
   ]
  },
  {
   "cell_type": "code",
   "execution_count": 287,
   "metadata": {},
   "outputs": [
    {
     "data": {
      "text/html": [
       "<div>\n",
       "<style scoped>\n",
       "    .dataframe tbody tr th:only-of-type {\n",
       "        vertical-align: middle;\n",
       "    }\n",
       "\n",
       "    .dataframe tbody tr th {\n",
       "        vertical-align: top;\n",
       "    }\n",
       "\n",
       "    .dataframe thead th {\n",
       "        text-align: right;\n",
       "    }\n",
       "</style>\n",
       "<table border=\"1\" class=\"dataframe\">\n",
       "  <thead>\n",
       "    <tr style=\"text-align: right;\">\n",
       "      <th></th>\n",
       "      <th>#</th>\n",
       "      <th>Total</th>\n",
       "      <th>HP</th>\n",
       "      <th>Attack</th>\n",
       "      <th>Defense</th>\n",
       "      <th>Sp. Atk</th>\n",
       "      <th>Sp. Def</th>\n",
       "      <th>Speed</th>\n",
       "      <th>Generation</th>\n",
       "    </tr>\n",
       "  </thead>\n",
       "  <tbody>\n",
       "    <tr>\n",
       "      <th>count</th>\n",
       "      <td>8.000000e+02</td>\n",
       "      <td>8.000000e+02</td>\n",
       "      <td>8.000000e+02</td>\n",
       "      <td>8.000000e+02</td>\n",
       "      <td>8.000000e+02</td>\n",
       "      <td>8.000000e+02</td>\n",
       "      <td>8.000000e+02</td>\n",
       "      <td>8.000000e+02</td>\n",
       "      <td>8.000000e+02</td>\n",
       "    </tr>\n",
       "    <tr>\n",
       "      <th>mean</th>\n",
       "      <td>-2.325917e-16</td>\n",
       "      <td>-1.160183e-16</td>\n",
       "      <td>-5.410949e-16</td>\n",
       "      <td>2.553513e-17</td>\n",
       "      <td>5.828671e-18</td>\n",
       "      <td>2.295386e-16</td>\n",
       "      <td>-2.584044e-16</td>\n",
       "      <td>-1.208669e-16</td>\n",
       "      <td>2.837175e-15</td>\n",
       "    </tr>\n",
       "    <tr>\n",
       "      <th>std</th>\n",
       "      <td>1.000000e+00</td>\n",
       "      <td>1.000000e+00</td>\n",
       "      <td>1.000000e+00</td>\n",
       "      <td>1.000000e+00</td>\n",
       "      <td>1.000000e+00</td>\n",
       "      <td>1.000000e+00</td>\n",
       "      <td>1.000000e+00</td>\n",
       "      <td>1.000000e+00</td>\n",
       "      <td>1.000000e+00</td>\n",
       "    </tr>\n",
       "    <tr>\n",
       "      <th>min</th>\n",
       "      <td>-1.736619e+00</td>\n",
       "      <td>-2.126509e+00</td>\n",
       "      <td>-2.673179e+00</td>\n",
       "      <td>-2.279952e+00</td>\n",
       "      <td>-2.207658e+00</td>\n",
       "      <td>-1.919792e+00</td>\n",
       "      <td>-1.865056e+00</td>\n",
       "      <td>-2.177442e+00</td>\n",
       "      <td>-1.398762e+00</td>\n",
       "    </tr>\n",
       "    <tr>\n",
       "      <th>25%</th>\n",
       "      <td>-8.546631e-01</td>\n",
       "      <td>-8.761240e-01</td>\n",
       "      <td>-7.542197e-01</td>\n",
       "      <td>-7.394701e-01</td>\n",
       "      <td>-7.645870e-01</td>\n",
       "      <td>-7.050239e-01</td>\n",
       "      <td>-7.870411e-01</td>\n",
       "      <td>-8.010021e-01</td>\n",
       "      <td>-7.968204e-01</td>\n",
       "    </tr>\n",
       "    <tr>\n",
       "      <th>50%</th>\n",
       "      <td>8.093593e-03</td>\n",
       "      <td>1.241841e-01</td>\n",
       "      <td>-1.667831e-01</td>\n",
       "      <td>-1.232771e-01</td>\n",
       "      <td>-1.232222e-01</td>\n",
       "      <td>-2.389808e-01</td>\n",
       "      <td>-6.836414e-02</td>\n",
       "      <td>-1.127821e-01</td>\n",
       "      <td>-1.948786e-01</td>\n",
       "    </tr>\n",
       "    <tr>\n",
       "      <th>75%</th>\n",
       "      <td>8.468515e-01</td>\n",
       "      <td>6.660176e-01</td>\n",
       "      <td>4.206536e-01</td>\n",
       "      <td>6.469641e-01</td>\n",
       "      <td>5.181426e-01</td>\n",
       "      <td>6.778253e-01</td>\n",
       "      <td>6.503128e-01</td>\n",
       "      <td>7.474930e-01</td>\n",
       "      <td>1.009005e+00</td>\n",
       "    </tr>\n",
       "    <tr>\n",
       "      <th>max</th>\n",
       "      <td>1.719208e+00</td>\n",
       "      <td>2.875031e+00</td>\n",
       "      <td>7.274081e+00</td>\n",
       "      <td>3.419832e+00</td>\n",
       "      <td>5.007696e+00</td>\n",
       "      <td>3.703286e+00</td>\n",
       "      <td>5.681051e+00</td>\n",
       "      <td>3.844483e+00</td>\n",
       "      <td>1.610947e+00</td>\n",
       "    </tr>\n",
       "  </tbody>\n",
       "</table>\n",
       "</div>"
      ],
      "text/plain": [
       "                  #         Total            HP        Attack       Defense  \\\n",
       "count  8.000000e+02  8.000000e+02  8.000000e+02  8.000000e+02  8.000000e+02   \n",
       "mean  -2.325917e-16 -1.160183e-16 -5.410949e-16  2.553513e-17  5.828671e-18   \n",
       "std    1.000000e+00  1.000000e+00  1.000000e+00  1.000000e+00  1.000000e+00   \n",
       "min   -1.736619e+00 -2.126509e+00 -2.673179e+00 -2.279952e+00 -2.207658e+00   \n",
       "25%   -8.546631e-01 -8.761240e-01 -7.542197e-01 -7.394701e-01 -7.645870e-01   \n",
       "50%    8.093593e-03  1.241841e-01 -1.667831e-01 -1.232771e-01 -1.232222e-01   \n",
       "75%    8.468515e-01  6.660176e-01  4.206536e-01  6.469641e-01  5.181426e-01   \n",
       "max    1.719208e+00  2.875031e+00  7.274081e+00  3.419832e+00  5.007696e+00   \n",
       "\n",
       "            Sp. Atk       Sp. Def         Speed    Generation  \n",
       "count  8.000000e+02  8.000000e+02  8.000000e+02  8.000000e+02  \n",
       "mean   2.295386e-16 -2.584044e-16 -1.208669e-16  2.837175e-15  \n",
       "std    1.000000e+00  1.000000e+00  1.000000e+00  1.000000e+00  \n",
       "min   -1.919792e+00 -1.865056e+00 -2.177442e+00 -1.398762e+00  \n",
       "25%   -7.050239e-01 -7.870411e-01 -8.010021e-01 -7.968204e-01  \n",
       "50%   -2.389808e-01 -6.836414e-02 -1.127821e-01 -1.948786e-01  \n",
       "75%    6.778253e-01  6.503128e-01  7.474930e-01  1.009005e+00  \n",
       "max    3.703286e+00  5.681051e+00  3.844483e+00  1.610947e+00  "
      ]
     },
     "execution_count": 287,
     "metadata": {},
     "output_type": "execute_result"
    }
   ],
   "source": [
    "data_numerical = (data_numerical - data_numerical.mean(axis = 0))/data_numerical.std(axis = 0)\n",
    "data_numerical.describe()"
   ]
  },
  {
   "cell_type": "markdown",
   "metadata": {},
   "source": [
    "#### Окончательный набор данных"
   ]
  },
  {
   "cell_type": "code",
   "execution_count": 288,
   "metadata": {},
   "outputs": [
    {
     "name": "stdout",
     "output_type": "stream",
     "text": [
      "(800, 28)\n"
     ]
    }
   ],
   "source": [
    "data = pd.concat((data_categorical, data_numerical, data['Legendary']), axis = 1)\n",
    "print(data.shape)"
   ]
  },
  {
   "cell_type": "code",
   "execution_count": 289,
   "metadata": {},
   "outputs": [
    {
     "data": {
      "text/html": [
       "<div>\n",
       "<style scoped>\n",
       "    .dataframe tbody tr th:only-of-type {\n",
       "        vertical-align: middle;\n",
       "    }\n",
       "\n",
       "    .dataframe tbody tr th {\n",
       "        vertical-align: top;\n",
       "    }\n",
       "\n",
       "    .dataframe thead th {\n",
       "        text-align: right;\n",
       "    }\n",
       "</style>\n",
       "<table border=\"1\" class=\"dataframe\">\n",
       "  <thead>\n",
       "    <tr style=\"text-align: right;\">\n",
       "      <th></th>\n",
       "      <th>Type 1_Bug</th>\n",
       "      <th>Type 1_Dark</th>\n",
       "      <th>Type 1_Dragon</th>\n",
       "      <th>Type 1_Electric</th>\n",
       "      <th>Type 1_Fairy</th>\n",
       "      <th>Type 1_Fighting</th>\n",
       "      <th>Type 1_Fire</th>\n",
       "      <th>Type 1_Flying</th>\n",
       "      <th>Type 1_Ghost</th>\n",
       "      <th>Type 1_Grass</th>\n",
       "      <th>...</th>\n",
       "      <th>Type 1_Water</th>\n",
       "      <th>#</th>\n",
       "      <th>Total</th>\n",
       "      <th>HP</th>\n",
       "      <th>Attack</th>\n",
       "      <th>Defense</th>\n",
       "      <th>Sp. Atk</th>\n",
       "      <th>Sp. Def</th>\n",
       "      <th>Speed</th>\n",
       "      <th>Generation</th>\n",
       "    </tr>\n",
       "  </thead>\n",
       "  <tbody>\n",
       "    <tr>\n",
       "      <th>count</th>\n",
       "      <td>800.000000</td>\n",
       "      <td>800.000000</td>\n",
       "      <td>800.000000</td>\n",
       "      <td>800.000000</td>\n",
       "      <td>800.000000</td>\n",
       "      <td>800.000000</td>\n",
       "      <td>800.00000</td>\n",
       "      <td>800.000000</td>\n",
       "      <td>800.000000</td>\n",
       "      <td>800.000000</td>\n",
       "      <td>...</td>\n",
       "      <td>800.000000</td>\n",
       "      <td>8.000000e+02</td>\n",
       "      <td>8.000000e+02</td>\n",
       "      <td>8.000000e+02</td>\n",
       "      <td>8.000000e+02</td>\n",
       "      <td>8.000000e+02</td>\n",
       "      <td>8.000000e+02</td>\n",
       "      <td>8.000000e+02</td>\n",
       "      <td>8.000000e+02</td>\n",
       "      <td>8.000000e+02</td>\n",
       "    </tr>\n",
       "    <tr>\n",
       "      <th>mean</th>\n",
       "      <td>0.086250</td>\n",
       "      <td>0.038750</td>\n",
       "      <td>0.040000</td>\n",
       "      <td>0.055000</td>\n",
       "      <td>0.021250</td>\n",
       "      <td>0.033750</td>\n",
       "      <td>0.06500</td>\n",
       "      <td>0.005000</td>\n",
       "      <td>0.040000</td>\n",
       "      <td>0.087500</td>\n",
       "      <td>...</td>\n",
       "      <td>0.140000</td>\n",
       "      <td>-2.325917e-16</td>\n",
       "      <td>-1.160183e-16</td>\n",
       "      <td>-5.410949e-16</td>\n",
       "      <td>2.553513e-17</td>\n",
       "      <td>5.828671e-18</td>\n",
       "      <td>2.295386e-16</td>\n",
       "      <td>-2.584044e-16</td>\n",
       "      <td>-1.208669e-16</td>\n",
       "      <td>2.837175e-15</td>\n",
       "    </tr>\n",
       "    <tr>\n",
       "      <th>std</th>\n",
       "      <td>0.280908</td>\n",
       "      <td>0.193119</td>\n",
       "      <td>0.196082</td>\n",
       "      <td>0.228123</td>\n",
       "      <td>0.144307</td>\n",
       "      <td>0.180698</td>\n",
       "      <td>0.24668</td>\n",
       "      <td>0.070578</td>\n",
       "      <td>0.196082</td>\n",
       "      <td>0.282743</td>\n",
       "      <td>...</td>\n",
       "      <td>0.347204</td>\n",
       "      <td>1.000000e+00</td>\n",
       "      <td>1.000000e+00</td>\n",
       "      <td>1.000000e+00</td>\n",
       "      <td>1.000000e+00</td>\n",
       "      <td>1.000000e+00</td>\n",
       "      <td>1.000000e+00</td>\n",
       "      <td>1.000000e+00</td>\n",
       "      <td>1.000000e+00</td>\n",
       "      <td>1.000000e+00</td>\n",
       "    </tr>\n",
       "    <tr>\n",
       "      <th>min</th>\n",
       "      <td>0.000000</td>\n",
       "      <td>0.000000</td>\n",
       "      <td>0.000000</td>\n",
       "      <td>0.000000</td>\n",
       "      <td>0.000000</td>\n",
       "      <td>0.000000</td>\n",
       "      <td>0.00000</td>\n",
       "      <td>0.000000</td>\n",
       "      <td>0.000000</td>\n",
       "      <td>0.000000</td>\n",
       "      <td>...</td>\n",
       "      <td>0.000000</td>\n",
       "      <td>-1.736619e+00</td>\n",
       "      <td>-2.126509e+00</td>\n",
       "      <td>-2.673179e+00</td>\n",
       "      <td>-2.279952e+00</td>\n",
       "      <td>-2.207658e+00</td>\n",
       "      <td>-1.919792e+00</td>\n",
       "      <td>-1.865056e+00</td>\n",
       "      <td>-2.177442e+00</td>\n",
       "      <td>-1.398762e+00</td>\n",
       "    </tr>\n",
       "    <tr>\n",
       "      <th>25%</th>\n",
       "      <td>0.000000</td>\n",
       "      <td>0.000000</td>\n",
       "      <td>0.000000</td>\n",
       "      <td>0.000000</td>\n",
       "      <td>0.000000</td>\n",
       "      <td>0.000000</td>\n",
       "      <td>0.00000</td>\n",
       "      <td>0.000000</td>\n",
       "      <td>0.000000</td>\n",
       "      <td>0.000000</td>\n",
       "      <td>...</td>\n",
       "      <td>0.000000</td>\n",
       "      <td>-8.546631e-01</td>\n",
       "      <td>-8.761240e-01</td>\n",
       "      <td>-7.542197e-01</td>\n",
       "      <td>-7.394701e-01</td>\n",
       "      <td>-7.645870e-01</td>\n",
       "      <td>-7.050239e-01</td>\n",
       "      <td>-7.870411e-01</td>\n",
       "      <td>-8.010021e-01</td>\n",
       "      <td>-7.968204e-01</td>\n",
       "    </tr>\n",
       "    <tr>\n",
       "      <th>50%</th>\n",
       "      <td>0.000000</td>\n",
       "      <td>0.000000</td>\n",
       "      <td>0.000000</td>\n",
       "      <td>0.000000</td>\n",
       "      <td>0.000000</td>\n",
       "      <td>0.000000</td>\n",
       "      <td>0.00000</td>\n",
       "      <td>0.000000</td>\n",
       "      <td>0.000000</td>\n",
       "      <td>0.000000</td>\n",
       "      <td>...</td>\n",
       "      <td>0.000000</td>\n",
       "      <td>8.093593e-03</td>\n",
       "      <td>1.241841e-01</td>\n",
       "      <td>-1.667831e-01</td>\n",
       "      <td>-1.232771e-01</td>\n",
       "      <td>-1.232222e-01</td>\n",
       "      <td>-2.389808e-01</td>\n",
       "      <td>-6.836414e-02</td>\n",
       "      <td>-1.127821e-01</td>\n",
       "      <td>-1.948786e-01</td>\n",
       "    </tr>\n",
       "    <tr>\n",
       "      <th>75%</th>\n",
       "      <td>0.000000</td>\n",
       "      <td>0.000000</td>\n",
       "      <td>0.000000</td>\n",
       "      <td>0.000000</td>\n",
       "      <td>0.000000</td>\n",
       "      <td>0.000000</td>\n",
       "      <td>0.00000</td>\n",
       "      <td>0.000000</td>\n",
       "      <td>0.000000</td>\n",
       "      <td>0.000000</td>\n",
       "      <td>...</td>\n",
       "      <td>0.000000</td>\n",
       "      <td>8.468515e-01</td>\n",
       "      <td>6.660176e-01</td>\n",
       "      <td>4.206536e-01</td>\n",
       "      <td>6.469641e-01</td>\n",
       "      <td>5.181426e-01</td>\n",
       "      <td>6.778253e-01</td>\n",
       "      <td>6.503128e-01</td>\n",
       "      <td>7.474930e-01</td>\n",
       "      <td>1.009005e+00</td>\n",
       "    </tr>\n",
       "    <tr>\n",
       "      <th>max</th>\n",
       "      <td>1.000000</td>\n",
       "      <td>1.000000</td>\n",
       "      <td>1.000000</td>\n",
       "      <td>1.000000</td>\n",
       "      <td>1.000000</td>\n",
       "      <td>1.000000</td>\n",
       "      <td>1.00000</td>\n",
       "      <td>1.000000</td>\n",
       "      <td>1.000000</td>\n",
       "      <td>1.000000</td>\n",
       "      <td>...</td>\n",
       "      <td>1.000000</td>\n",
       "      <td>1.719208e+00</td>\n",
       "      <td>2.875031e+00</td>\n",
       "      <td>7.274081e+00</td>\n",
       "      <td>3.419832e+00</td>\n",
       "      <td>5.007696e+00</td>\n",
       "      <td>3.703286e+00</td>\n",
       "      <td>5.681051e+00</td>\n",
       "      <td>3.844483e+00</td>\n",
       "      <td>1.610947e+00</td>\n",
       "    </tr>\n",
       "  </tbody>\n",
       "</table>\n",
       "<p>8 rows × 27 columns</p>\n",
       "</div>"
      ],
      "text/plain": [
       "       Type 1_Bug  Type 1_Dark  Type 1_Dragon  Type 1_Electric  Type 1_Fairy  \\\n",
       "count  800.000000   800.000000     800.000000       800.000000    800.000000   \n",
       "mean     0.086250     0.038750       0.040000         0.055000      0.021250   \n",
       "std      0.280908     0.193119       0.196082         0.228123      0.144307   \n",
       "min      0.000000     0.000000       0.000000         0.000000      0.000000   \n",
       "25%      0.000000     0.000000       0.000000         0.000000      0.000000   \n",
       "50%      0.000000     0.000000       0.000000         0.000000      0.000000   \n",
       "75%      0.000000     0.000000       0.000000         0.000000      0.000000   \n",
       "max      1.000000     1.000000       1.000000         1.000000      1.000000   \n",
       "\n",
       "       Type 1_Fighting  Type 1_Fire  Type 1_Flying  Type 1_Ghost  \\\n",
       "count       800.000000    800.00000     800.000000    800.000000   \n",
       "mean          0.033750      0.06500       0.005000      0.040000   \n",
       "std           0.180698      0.24668       0.070578      0.196082   \n",
       "min           0.000000      0.00000       0.000000      0.000000   \n",
       "25%           0.000000      0.00000       0.000000      0.000000   \n",
       "50%           0.000000      0.00000       0.000000      0.000000   \n",
       "75%           0.000000      0.00000       0.000000      0.000000   \n",
       "max           1.000000      1.00000       1.000000      1.000000   \n",
       "\n",
       "       Type 1_Grass      ...       Type 1_Water             #         Total  \\\n",
       "count    800.000000      ...         800.000000  8.000000e+02  8.000000e+02   \n",
       "mean       0.087500      ...           0.140000 -2.325917e-16 -1.160183e-16   \n",
       "std        0.282743      ...           0.347204  1.000000e+00  1.000000e+00   \n",
       "min        0.000000      ...           0.000000 -1.736619e+00 -2.126509e+00   \n",
       "25%        0.000000      ...           0.000000 -8.546631e-01 -8.761240e-01   \n",
       "50%        0.000000      ...           0.000000  8.093593e-03  1.241841e-01   \n",
       "75%        0.000000      ...           0.000000  8.468515e-01  6.660176e-01   \n",
       "max        1.000000      ...           1.000000  1.719208e+00  2.875031e+00   \n",
       "\n",
       "                 HP        Attack       Defense       Sp. Atk       Sp. Def  \\\n",
       "count  8.000000e+02  8.000000e+02  8.000000e+02  8.000000e+02  8.000000e+02   \n",
       "mean  -5.410949e-16  2.553513e-17  5.828671e-18  2.295386e-16 -2.584044e-16   \n",
       "std    1.000000e+00  1.000000e+00  1.000000e+00  1.000000e+00  1.000000e+00   \n",
       "min   -2.673179e+00 -2.279952e+00 -2.207658e+00 -1.919792e+00 -1.865056e+00   \n",
       "25%   -7.542197e-01 -7.394701e-01 -7.645870e-01 -7.050239e-01 -7.870411e-01   \n",
       "50%   -1.667831e-01 -1.232771e-01 -1.232222e-01 -2.389808e-01 -6.836414e-02   \n",
       "75%    4.206536e-01  6.469641e-01  5.181426e-01  6.778253e-01  6.503128e-01   \n",
       "max    7.274081e+00  3.419832e+00  5.007696e+00  3.703286e+00  5.681051e+00   \n",
       "\n",
       "              Speed    Generation  \n",
       "count  8.000000e+02  8.000000e+02  \n",
       "mean  -1.208669e-16  2.837175e-15  \n",
       "std    1.000000e+00  1.000000e+00  \n",
       "min   -2.177442e+00 -1.398762e+00  \n",
       "25%   -8.010021e-01 -7.968204e-01  \n",
       "50%   -1.127821e-01 -1.948786e-01  \n",
       "75%    7.474930e-01  1.009005e+00  \n",
       "max    3.844483e+00  1.610947e+00  \n",
       "\n",
       "[8 rows x 27 columns]"
      ]
     },
     "execution_count": 289,
     "metadata": {},
     "output_type": "execute_result"
    }
   ],
   "source": [
    "data.describe()"
   ]
  },
  {
   "cell_type": "markdown",
   "metadata": {},
   "source": [
    "Разбиваем данные на `X` и `y`: "
   ]
  },
  {
   "cell_type": "code",
   "execution_count": 290,
   "metadata": {},
   "outputs": [],
   "source": [
    "X = data.drop(('Legendary'), axis = 1)\n",
    "y = data['Legendary']\n",
    "feature_names = X.columns"
   ]
  },
  {
   "cell_type": "code",
   "execution_count": 291,
   "metadata": {},
   "outputs": [
    {
     "name": "stdout",
     "output_type": "stream",
     "text": [
      "(800, 27)\n",
      "(800,)\n"
     ]
    }
   ],
   "source": [
    "print(X.shape)\n",
    "print(y.shape)\n",
    "N, d = X.shape"
   ]
  },
  {
   "cell_type": "markdown",
   "metadata": {},
   "source": [
    "Разбиваем данные на `test` и `train`:"
   ]
  },
  {
   "cell_type": "code",
   "execution_count": 292,
   "metadata": {},
   "outputs": [
    {
     "name": "stdout",
     "output_type": "stream",
     "text": [
      "560 240\n"
     ]
    }
   ],
   "source": [
    "from sklearn.model_selection import train_test_split\n",
    "X_train, X_test, y_train, y_test = train_test_split(X, y, test_size = 0.3, random_state = 42)\n",
    "\n",
    "N_train, _ = X_train.shape \n",
    "N_test,  _ = X_test.shape \n",
    "\n",
    "print(N_train, N_test)"
   ]
  },
  {
   "cell_type": "markdown",
   "metadata": {},
   "source": [
    "### kNN"
   ]
  },
  {
   "cell_type": "code",
   "execution_count": 293,
   "metadata": {},
   "outputs": [
    {
     "data": {
      "text/plain": [
       "KNeighborsClassifier(algorithm='auto', leaf_size=30, metric='minkowski',\n",
       "           metric_params=None, n_jobs=1, n_neighbors=10, p=2,\n",
       "           weights='uniform')"
      ]
     },
     "execution_count": 293,
     "metadata": {},
     "output_type": "execute_result"
    }
   ],
   "source": [
    "from sklearn.neighbors import KNeighborsClassifier\n",
    "\n",
    "knn = KNeighborsClassifier(n_neighbors = 10)\n",
    "#knn.set_params(n_neighbors=10)\n",
    "knn.fit(X_train, y_train)"
   ]
  },
  {
   "cell_type": "code",
   "execution_count": 294,
   "metadata": {},
   "outputs": [
    {
     "data": {
      "text/plain": [
       "KNeighborsClassifier(algorithm='auto', leaf_size=30, metric='minkowski',\n",
       "           metric_params=None, n_jobs=1, n_neighbors=10, p=2,\n",
       "           weights='uniform')"
      ]
     },
     "execution_count": 294,
     "metadata": {},
     "output_type": "execute_result"
    }
   ],
   "source": [
    "knn"
   ]
  },
  {
   "cell_type": "markdown",
   "metadata": {},
   "source": [
    "#### Ошибка\n",
    "\n",
    "1-ый способ:"
   ]
  },
  {
   "cell_type": "code",
   "execution_count": 295,
   "metadata": {},
   "outputs": [
    {
     "name": "stdout",
     "output_type": "stream",
     "text": [
      "0.039285714285714285 0.04583333333333333\n"
     ]
    }
   ],
   "source": [
    "y_train_predict = knn.predict(X_train)\n",
    "y_test_predict = knn.predict(X_test)\n",
    "\n",
    "err_train = np.mean(y_train != y_train_predict)\n",
    "err_test  = np.mean(y_test  != y_test_predict)\n",
    "\n",
    "print(err_train, err_test)"
   ]
  },
  {
   "cell_type": "markdown",
   "metadata": {},
   "source": [
    "2-ой способ:"
   ]
  },
  {
   "cell_type": "code",
   "execution_count": 296,
   "metadata": {},
   "outputs": [],
   "source": [
    "err_test = 1 - knn.score(X_test, y_test)"
   ]
  },
  {
   "cell_type": "code",
   "execution_count": 297,
   "metadata": {},
   "outputs": [
    {
     "data": {
      "text/plain": [
       "0.04583333333333328"
      ]
     },
     "execution_count": 297,
     "metadata": {},
     "output_type": "execute_result"
    }
   ],
   "source": [
    "err_test"
   ]
  },
  {
   "cell_type": "markdown",
   "metadata": {},
   "source": [
    "Так же можно рассмотреть ошибки первого и второго рода:"
   ]
  },
  {
   "cell_type": "code",
   "execution_count": 298,
   "metadata": {},
   "outputs": [
    {
     "name": "stdout",
     "output_type": "stream",
     "text": [
      "[[221   4]\n",
      " [  7   8]]\n"
     ]
    }
   ],
   "source": [
    "from sklearn.metrics import confusion_matrix\n",
    "\n",
    "print(confusion_matrix(y_test, y_test_predict))"
   ]
  },
  {
   "cell_type": "code",
   "execution_count": 299,
   "metadata": {},
   "outputs": [
    {
     "data": {
      "text/plain": [
       "array([[3, 0],\n",
       "       [1, 1]], dtype=int64)"
      ]
     },
     "execution_count": 299,
     "metadata": {},
     "output_type": "execute_result"
    }
   ],
   "source": [
    "confusion_matrix([0,1,0,1,0], [0,1,0,0,0])"
   ]
  },
  {
   "cell_type": "markdown",
   "metadata": {},
   "source": [
    "Здесь:\n",
    "\n",
    "`[[TP FP]\n",
    "  [FN TN]]`"
   ]
  },
  {
   "cell_type": "markdown",
   "metadata": {},
   "source": [
    "#### Подбор параметров"
   ]
  },
  {
   "cell_type": "code",
   "execution_count": 300,
   "metadata": {},
   "outputs": [
    {
     "name": "stdout",
     "output_type": "stream",
     "text": [
      "0.048214285714285765 5\n"
     ]
    }
   ],
   "source": [
    "from sklearn.model_selection import GridSearchCV\n",
    "\n",
    "nnb = [1, 3, 5, 10, 15, 20, 25, 35, 45, 55]\n",
    "knn = KNeighborsClassifier()\n",
    "grid = GridSearchCV(knn, param_grid = {'n_neighbors': nnb}, cv=10)\n",
    "grid.fit(X_train, y_train)\n",
    "\n",
    "best_cv_err = 1 - grid.best_score_\n",
    "best_n_neighbors = grid.best_estimator_.n_neighbors\n",
    "print(best_cv_err, best_n_neighbors)"
   ]
  },
  {
   "cell_type": "code",
   "execution_count": 301,
   "metadata": {},
   "outputs": [
    {
     "name": "stdout",
     "output_type": "stream",
     "text": [
      "0.03571428571428571 0.05\n"
     ]
    }
   ],
   "source": [
    "knn = KNeighborsClassifier(n_neighbors = best_n_neighbors).fit(X_train, y_train)\n",
    "\n",
    "err_train = np.mean(y_train != knn.predict(X_train))\n",
    "err_test  = np.mean(y_test  != knn.predict(X_test))\n",
    "\n",
    "print(err_train, err_test)"
   ]
  },
  {
   "cell_type": "markdown",
   "metadata": {},
   "source": [
    "### SVC"
   ]
  },
  {
   "cell_type": "code",
   "execution_count": 302,
   "metadata": {},
   "outputs": [
    {
     "name": "stdout",
     "output_type": "stream",
     "text": [
      "0.02857142857142857 0.041666666666666664\n"
     ]
    }
   ],
   "source": [
    "from sklearn.svm import SVC\n",
    "svc = SVC()\n",
    "svc.fit(X_train, y_train)\n",
    "\n",
    "err_train = np.mean(y_train != svc.predict(X_train))\n",
    "err_test  = np.mean(y_test  != svc.predict(X_test))\n",
    "\n",
    "print(err_train, err_test)"
   ]
  },
  {
   "cell_type": "markdown",
   "metadata": {},
   "source": [
    "#### Подбор параметров"
   ]
  },
  {
   "cell_type": "code",
   "execution_count": 303,
   "metadata": {},
   "outputs": [
    {
     "name": "stdout",
     "output_type": "stream",
     "text": [
      "0.042857142857142816 1.0\n"
     ]
    }
   ],
   "source": [
    "from sklearn.grid_search import GridSearchCV\n",
    "Cs = 10.**np.arange(-5, 5)\n",
    "gamma_array = 10.**np.arange(-5, 5)\n",
    "svc = SVC()\n",
    "grid = GridSearchCV(svc, param_grid = {'C': Cs, 'gamma': gamma_array})\n",
    "grid.fit(X_train, y_train)\n",
    "\n",
    "best_cv_err = 1 - grid.best_score_\n",
    "best_C = grid.best_estimator_.C\n",
    "print(best_cv_err, best_C)"
   ]
  },
  {
   "cell_type": "code",
   "execution_count": 304,
   "metadata": {},
   "outputs": [
    {
     "name": "stdout",
     "output_type": "stream",
     "text": [
      "0.03571428571428571 0.05\n"
     ]
    }
   ],
   "source": [
    "svc = SVC(C = best_C).fit(X_train, y_train)\n",
    "\n",
    "err_train = np.mean(y_train != knn.predict(X_train))\n",
    "err_test  = np.mean(y_test  != knn.predict(X_test))\n",
    "\n",
    "print(err_train, err_test)"
   ]
  },
  {
   "cell_type": "markdown",
   "metadata": {},
   "source": [
    "### Random Forest"
   ]
  },
  {
   "cell_type": "code",
   "execution_count": 305,
   "metadata": {},
   "outputs": [
    {
     "name": "stdout",
     "output_type": "stream",
     "text": [
      "0.0 0.025\n"
     ]
    }
   ],
   "source": [
    "from sklearn import ensemble\n",
    "rf = ensemble.RandomForestClassifier(n_estimators = 1000)\n",
    "rf.fit(X_train, y_train)\n",
    "\n",
    "err_train = np.mean(y_train != rf.predict(X_train))\n",
    "err_test  = np.mean(y_test  != rf.predict(X_test))\n",
    "\n",
    "print(err_train, err_test)"
   ]
  },
  {
   "cell_type": "markdown",
   "metadata": {},
   "source": [
    "#### Значимость признаков"
   ]
  },
  {
   "cell_type": "code",
   "execution_count": 306,
   "metadata": {},
   "outputs": [
    {
     "data": {
      "text/plain": [
       "0.9999999999999996"
      ]
     },
     "execution_count": 306,
     "metadata": {},
     "output_type": "execute_result"
    }
   ],
   "source": [
    "np.sum(rf.feature_importances_)"
   ]
  },
  {
   "cell_type": "code",
   "execution_count": 307,
   "metadata": {},
   "outputs": [
    {
     "name": "stdout",
     "output_type": "stream",
     "text": [
      "Feature ranking:\n",
      " 1. feature 'Total' (0.284650)\n",
      " 2. feature 'Sp. Atk' (0.119707)\n",
      " 3. feature '    #' (0.094182)\n",
      " 4. feature '   HP' (0.088922)\n",
      " 5. feature 'Speed' (0.088042)\n",
      " 6. feature 'Sp. Def' (0.086231)\n",
      " 7. feature 'Attack' (0.074516)\n",
      " 8. feature 'Defense' (0.053932)\n",
      " 9. feature 'Generation' (0.032201)\n",
      "10. feature 'Type 1_Water' (0.011912)\n",
      "11. feature 'Type 1_Psychic' (0.011033)\n",
      "12. feature 'Type 1_Dragon' (0.010533)\n",
      "13. feature 'Type 1_Normal' (0.005257)\n",
      "14. feature 'Type 1_Fire' (0.004841)\n",
      "15. feature 'Type 1_Steel' (0.004596)\n",
      "16. feature 'Type 1_Bug' (0.004226)\n",
      "17. feature 'Type 1_Ice' (0.004136)\n",
      "18. feature 'Type 1_Flying' (0.004106)\n",
      "19. feature 'Type 1_Electric' (0.003546)\n",
      "20. feature 'Type 1_Grass' (0.003178)\n",
      "21. feature 'Type 1_Ground' (0.003010)\n",
      "22. feature 'Type 1_Rock' (0.002641)\n",
      "23. feature 'Type 1_Dark' (0.001754)\n",
      "24. feature 'Type 1_Fighting' (0.001396)\n",
      "25. feature 'Type 1_Ghost' (0.001029)\n",
      "26. feature 'Type 1_Fairy' (0.000327)\n",
      "27. feature 'Type 1_Poison' (0.000095)\n"
     ]
    }
   ],
   "source": [
    "importances = rf.feature_importances_\n",
    "indices = np.argsort(importances)[::-1]\n",
    "\n",
    "print(\"Feature ranking:\")\n",
    "\n",
    "for f in range(d):\n",
    "    print(\"%2d. feature '%5s' (%f)\" % (f + 1, feature_names[indices[f]], importances[indices[f]]))   "
   ]
  },
  {
   "cell_type": "code",
   "execution_count": 308,
   "metadata": {},
   "outputs": [
    {
     "data": {
      "text/plain": [
       "(-1, 20)"
      ]
     },
     "execution_count": 308,
     "metadata": {},
     "output_type": "execute_result"
    },
    {
     "data": {
      "image/png": "[encoded data removed]",
      "text/plain": [
       "<Figure size 432x288 with 1 Axes>"
      ]
     },
     "metadata": {},
     "output_type": "display_data"
    }
   ],
   "source": [
    "d_first = 20\n",
    "plt.title(\"Feature importances\")\n",
    "plt.bar(range(d_first), importances[indices[:d_first]], align = 'center', color = 'r')\n",
    "plt.xticks(range(d_first), feature_names[indices[:d_first]], rotation = 90)\n",
    "plt.xlim([-1, d_first])"
   ]
  },
  {
   "cell_type": "markdown",
   "metadata": {},
   "source": [
    "На основе полученной гистограммы можно сделать вывод, что признак `Type` практически не влиял на обучение, а самым значимым был признак `Total`. Это совсем неудивительно, поскольку такая очевидная зависимость наблюдалась еще при первичном анализе данных."
   ]
  }
 ],
 "metadata": {
  "kernelspec": {
   "display_name": "Python 3",
   "language": "python",
   "name": "python3"
  },
  "language_info": {
   "codemirror_mode": {
    "name": "ipython",
    "version": 3
   },
   "file_extension": ".py",
   "mimetype": "text/x-python",
   "name": "python",
   "nbconvert_exporter": "python",
   "pygments_lexer": "ipython3",
   "version": "3.6.5"
  }
 },
 "nbformat": 4,
 "nbformat_minor": 2
}
